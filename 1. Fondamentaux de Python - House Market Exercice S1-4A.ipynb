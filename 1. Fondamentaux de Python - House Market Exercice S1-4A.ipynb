{
  "nbformat": 4,
  "nbformat_minor": 0,
  "metadata": {
    "colab": {
      "name": "Fondamentaux de Python - House Market Exercice S1-4A.ipynb",
      "version": "0.3.2",
      "provenance": []
    },
    "language_info": {
      "codemirror_mode": {
        "name": "ipython",
        "version": 3
      },
      "file_extension": ".py",
      "mimetype": "text/x-python",
      "name": "python",
      "nbconvert_exporter": "python",
      "pygments_lexer": "ipython3",
      "version": "3.6.6"
    },
    "kernelspec": {
      "display_name": "Python 3",
      "language": "python",
      "name": "python3"
    }
  },
  "cells": [
    {
      "cell_type": "markdown",
      "metadata": {
        "id": "UYxrKKxlJTuQ",
        "colab_type": "text"
      },
      "source": [
        "# House Market"
      ]
    },
    {
      "cell_type": "markdown",
      "metadata": {
        "id": "fKVD83V8JZG_",
        "colab_type": "text"
      },
      "source": [
        "Allons un peu plus loin dans python"
      ]
    },
    {
      "cell_type": "markdown",
      "metadata": {
        "id": "XXXPg4_hJcbL",
        "colab_type": "text"
      },
      "source": [
        "1. Téléchargez les trois fichiers “superficie.csv” / “nombre_de_sdb.csv” / “nombre_de_chambres.csv”\n",
        "\n",
        "2. Importez les trois datasets\n"
      ]
    },
    {
      "cell_type": "code",
      "metadata": {
        "id": "KiNPEcoKI65z",
        "colab_type": "code",
        "colab": {}
      },
      "source": [
        ""
      ],
      "execution_count": 0,
      "outputs": []
    },
    {
      "cell_type": "markdown",
      "metadata": {
        "id": "9gg1hs__JiFk",
        "colab_type": "text"
      },
      "source": [
        "3. Donnez un nom de colonne à ces trois datasets"
      ]
    },
    {
      "cell_type": "code",
      "metadata": {
        "id": "nxrSs_PTI651",
        "colab_type": "code",
        "colab": {}
      },
      "source": [
        ""
      ],
      "execution_count": 0,
      "outputs": []
    },
    {
      "cell_type": "code",
      "metadata": {
        "id": "by9wP1g_I653",
        "colab_type": "code",
        "outputId": "52ff2058-9df3-47eb-d2c3-8ca57001a401",
        "colab": {}
      },
      "source": [
        ""
      ],
      "execution_count": 0,
      "outputs": [
        {
          "output_type": "execute_result",
          "data": {
            "text/html": [
              "<div>\n",
              "<style scoped>\n",
              "    .dataframe tbody tr th:only-of-type {\n",
              "        vertical-align: middle;\n",
              "    }\n",
              "\n",
              "    .dataframe tbody tr th {\n",
              "        vertical-align: top;\n",
              "    }\n",
              "\n",
              "    .dataframe thead th {\n",
              "        text-align: right;\n",
              "    }\n",
              "</style>\n",
              "<table border=\"1\" class=\"dataframe\">\n",
              "  <thead>\n",
              "    <tr style=\"text-align: right;\">\n",
              "      <th></th>\n",
              "      <th>id</th>\n",
              "      <th>nombre_de_sdb</th>\n",
              "    </tr>\n",
              "  </thead>\n",
              "  <tbody>\n",
              "    <tr>\n",
              "      <th>0</th>\n",
              "      <td>0</td>\n",
              "      <td>2</td>\n",
              "    </tr>\n",
              "    <tr>\n",
              "      <th>1</th>\n",
              "      <td>1</td>\n",
              "      <td>1</td>\n",
              "    </tr>\n",
              "    <tr>\n",
              "      <th>2</th>\n",
              "      <td>2</td>\n",
              "      <td>1</td>\n",
              "    </tr>\n",
              "    <tr>\n",
              "      <th>3</th>\n",
              "      <td>3</td>\n",
              "      <td>3</td>\n",
              "    </tr>\n",
              "    <tr>\n",
              "      <th>4</th>\n",
              "      <td>4</td>\n",
              "      <td>1</td>\n",
              "    </tr>\n",
              "  </tbody>\n",
              "</table>\n",
              "</div>"
            ],
            "text/plain": [
              "   id  nombre_de_sdb\n",
              "0   0              2\n",
              "1   1              1\n",
              "2   2              1\n",
              "3   3              3\n",
              "4   4              1"
            ]
          },
          "metadata": {
            "tags": []
          },
          "execution_count": 79
        }
      ]
    },
    {
      "cell_type": "markdown",
      "metadata": {
        "id": "XCuGpWCNJs75",
        "colab_type": "text"
      },
      "source": [
        "4. Fusionner ces quatre datasets un seul dataframe (on fera une fusion simplement par index) qu’on nommera dataset"
      ]
    },
    {
      "cell_type": "code",
      "metadata": {
        "id": "Jaq9oYIaI65_",
        "colab_type": "code",
        "outputId": "a9c46865-92a0-42c6-98fb-b65221675141",
        "colab": {}
      },
      "source": [
        ""
      ],
      "execution_count": 0,
      "outputs": [
        {
          "output_type": "execute_result",
          "data": {
            "text/html": [
              "<div>\n",
              "<style scoped>\n",
              "    .dataframe tbody tr th:only-of-type {\n",
              "        vertical-align: middle;\n",
              "    }\n",
              "\n",
              "    .dataframe tbody tr th {\n",
              "        vertical-align: top;\n",
              "    }\n",
              "\n",
              "    .dataframe thead th {\n",
              "        text-align: right;\n",
              "    }\n",
              "</style>\n",
              "<table border=\"1\" class=\"dataframe\">\n",
              "  <thead>\n",
              "    <tr style=\"text-align: right;\">\n",
              "      <th></th>\n",
              "      <th>id</th>\n",
              "      <th>superficie</th>\n",
              "      <th>nombre_de_sdb</th>\n",
              "      <th>nombre_de_chambres</th>\n",
              "      <th>Unnamed: 0</th>\n",
              "      <th>house_price</th>\n",
              "    </tr>\n",
              "  </thead>\n",
              "  <tbody>\n",
              "    <tr>\n",
              "      <th>0</th>\n",
              "      <td>0</td>\n",
              "      <td>28844</td>\n",
              "      <td>2</td>\n",
              "      <td>1</td>\n",
              "      <td>32</td>\n",
              "      <td>1421908.0</td>\n",
              "    </tr>\n",
              "    <tr>\n",
              "      <th>1</th>\n",
              "      <td>1</td>\n",
              "      <td>27667</td>\n",
              "      <td>1</td>\n",
              "      <td>4</td>\n",
              "      <td>71</td>\n",
              "      <td>1305091.0</td>\n",
              "    </tr>\n",
              "    <tr>\n",
              "      <th>2</th>\n",
              "      <td>2</td>\n",
              "      <td>14742</td>\n",
              "      <td>1</td>\n",
              "      <td>1</td>\n",
              "      <td>65</td>\n",
              "      <td>164373.0</td>\n",
              "    </tr>\n",
              "    <tr>\n",
              "      <th>3</th>\n",
              "      <td>3</td>\n",
              "      <td>28089</td>\n",
              "      <td>3</td>\n",
              "      <td>4</td>\n",
              "      <td>88</td>\n",
              "      <td>1441714.0</td>\n",
              "    </tr>\n",
              "    <tr>\n",
              "      <th>4</th>\n",
              "      <td>4</td>\n",
              "      <td>11713</td>\n",
              "      <td>1</td>\n",
              "      <td>2</td>\n",
              "      <td>49</td>\n",
              "      <td>108290.0</td>\n",
              "    </tr>\n",
              "  </tbody>\n",
              "</table>\n",
              "</div>"
            ],
            "text/plain": [
              "   id  superficie  nombre_de_sdb  nombre_de_chambres  Unnamed: 0  house_price\n",
              "0   0       28844              2                   1          32    1421908.0\n",
              "1   1       27667              1                   4          71    1305091.0\n",
              "2   2       14742              1                   1          65     164373.0\n",
              "3   3       28089              3                   4          88    1441714.0\n",
              "4   4       11713              1                   2          49     108290.0"
            ]
          },
          "metadata": {
            "tags": []
          },
          "execution_count": 81
        }
      ]
    },
    {
      "cell_type": "markdown",
      "metadata": {
        "id": "iEfE8rgrJ2vK",
        "colab_type": "text"
      },
      "source": [
        "5. Quelle est la superficie moyenne des maisons de notre dataset ?"
      ]
    },
    {
      "cell_type": "code",
      "metadata": {
        "id": "N-Q8fJupI66E",
        "colab_type": "code",
        "outputId": "2d74f7f5-04fa-4d59-dec7-959bd73c5934",
        "colab": {}
      },
      "source": [
        ""
      ],
      "execution_count": 0,
      "outputs": [
        {
          "output_type": "execute_result",
          "data": {
            "text/plain": [
              "20439.77"
            ]
          },
          "metadata": {
            "tags": []
          },
          "execution_count": 83
        }
      ]
    },
    {
      "cell_type": "markdown",
      "metadata": {
        "id": "pE7O59U3J5v-",
        "colab_type": "text"
      },
      "source": [
        "6. Quelle est le nombre de chambre médian et moyen ?"
      ]
    },
    {
      "cell_type": "code",
      "metadata": {
        "id": "z4tPdBDLI66H",
        "colab_type": "code",
        "outputId": "d6e3b2ae-a09c-41ec-aedb-fa26296f9040",
        "colab": {}
      },
      "source": [
        ""
      ],
      "execution_count": 0,
      "outputs": [
        {
          "output_type": "execute_result",
          "data": {
            "text/html": [
              "<div>\n",
              "<style scoped>\n",
              "    .dataframe tbody tr th:only-of-type {\n",
              "        vertical-align: middle;\n",
              "    }\n",
              "\n",
              "    .dataframe tbody tr th {\n",
              "        vertical-align: top;\n",
              "    }\n",
              "\n",
              "    .dataframe thead th {\n",
              "        text-align: right;\n",
              "    }\n",
              "</style>\n",
              "<table border=\"1\" class=\"dataframe\">\n",
              "  <thead>\n",
              "    <tr style=\"text-align: right;\">\n",
              "      <th></th>\n",
              "      <th>id</th>\n",
              "      <th>superficie</th>\n",
              "      <th>nombre_de_sdb</th>\n",
              "      <th>house_price</th>\n",
              "    </tr>\n",
              "    <tr>\n",
              "      <th>nombre_de_chambres</th>\n",
              "      <th></th>\n",
              "      <th></th>\n",
              "      <th></th>\n",
              "      <th></th>\n",
              "    </tr>\n",
              "  </thead>\n",
              "  <tbody>\n",
              "    <tr>\n",
              "      <th>1</th>\n",
              "      <td>52.260870</td>\n",
              "      <td>22798.695652</td>\n",
              "      <td>1.869565</td>\n",
              "      <td>980774.869565</td>\n",
              "    </tr>\n",
              "    <tr>\n",
              "      <th>2</th>\n",
              "      <td>57.387097</td>\n",
              "      <td>19001.483871</td>\n",
              "      <td>2.000000</td>\n",
              "      <td>642086.258065</td>\n",
              "    </tr>\n",
              "    <tr>\n",
              "      <th>3</th>\n",
              "      <td>44.555556</td>\n",
              "      <td>19538.037037</td>\n",
              "      <td>2.037037</td>\n",
              "      <td>645904.592593</td>\n",
              "    </tr>\n",
              "    <tr>\n",
              "      <th>4</th>\n",
              "      <td>40.315789</td>\n",
              "      <td>21212.315789</td>\n",
              "      <td>1.894737</td>\n",
              "      <td>888045.631579</td>\n",
              "    </tr>\n",
              "  </tbody>\n",
              "</table>\n",
              "</div>"
            ],
            "text/plain": [
              "                           id    superficie  nombre_de_sdb    house_price\n",
              "nombre_de_chambres                                                       \n",
              "1                   52.260870  22798.695652       1.869565  980774.869565\n",
              "2                   57.387097  19001.483871       2.000000  642086.258065\n",
              "3                   44.555556  19538.037037       2.037037  645904.592593\n",
              "4                   40.315789  21212.315789       1.894737  888045.631579"
            ]
          },
          "metadata": {
            "tags": []
          },
          "execution_count": 84
        }
      ]
    },
    {
      "cell_type": "markdown",
      "metadata": {
        "id": "-OsvPDf_Kt5A",
        "colab_type": "text"
      },
      "source": [
        "7. Quel est le coût moyen d’une maison ?"
      ]
    },
    {
      "cell_type": "code",
      "metadata": {
        "id": "W9ugWn6fI66N",
        "colab_type": "code",
        "outputId": "157b71ad-6def-4f7b-c93b-d577358e2178",
        "colab": {}
      },
      "source": [
        ""
      ],
      "execution_count": 0,
      "outputs": [
        {
          "output_type": "execute_result",
          "data": {
            "text/plain": [
              "767747.87"
            ]
          },
          "metadata": {
            "tags": []
          },
          "execution_count": 86
        }
      ]
    },
    {
      "cell_type": "markdown",
      "metadata": {
        "id": "98siYxVVKy1f",
        "colab_type": "text"
      },
      "source": [
        "8. Quel est le coût moyen par chambre ?"
      ]
    },
    {
      "cell_type": "code",
      "metadata": {
        "id": "SIDrvd2WI66P",
        "colab_type": "code",
        "outputId": "6bd27127-ce91-4b83-8b06-c1be211690ab",
        "colab": {}
      },
      "source": [
        ""
      ],
      "execution_count": 0,
      "outputs": [
        {
          "output_type": "execute_result",
          "data": {
            "text/plain": [
              "id                        28.196095\n",
              "superficie              5387.422486\n",
              "nombre_de_sdb              0.814881\n",
              "nombre_de_chambres         0.000000\n",
              "house_price           664318.109295\n",
              "dtype: float64"
            ]
          },
          "metadata": {
            "tags": []
          },
          "execution_count": 87
        }
      ]
    },
    {
      "cell_type": "code",
      "metadata": {
        "id": "NpuoNjvOI66T",
        "colab_type": "code",
        "outputId": "8fec6dd8-ab2b-4077-969d-e0d21fe1e427",
        "colab": {}
      },
      "source": [
        ""
      ],
      "execution_count": 0,
      "outputs": [
        {
          "output_type": "execute_result",
          "data": {
            "text/plain": [
              "id                        52.260870\n",
              "superficie             22798.695652\n",
              "nombre_de_sdb              1.869565\n",
              "nombre_de_chambres         1.000000\n",
              "house_price           980774.869565\n",
              "dtype: float64"
            ]
          },
          "metadata": {
            "tags": []
          },
          "execution_count": 88
        }
      ]
    },
    {
      "cell_type": "code",
      "metadata": {
        "id": "X675Y2zLI66X",
        "colab_type": "code",
        "outputId": "48e07a04-0799-4a14-ce8a-033409283d6b",
        "colab": {}
      },
      "source": [
        ""
      ],
      "execution_count": 0,
      "outputs": [
        {
          "output_type": "execute_result",
          "data": {
            "text/html": [
              "<div>\n",
              "<style scoped>\n",
              "    .dataframe tbody tr th:only-of-type {\n",
              "        vertical-align: middle;\n",
              "    }\n",
              "\n",
              "    .dataframe tbody tr th {\n",
              "        vertical-align: top;\n",
              "    }\n",
              "\n",
              "    .dataframe thead th {\n",
              "        text-align: right;\n",
              "    }\n",
              "</style>\n",
              "<table border=\"1\" class=\"dataframe\">\n",
              "  <thead>\n",
              "    <tr style=\"text-align: right;\">\n",
              "      <th></th>\n",
              "      <th>id</th>\n",
              "      <th>superficie</th>\n",
              "      <th>nombre_de_sdb</th>\n",
              "      <th>house_price</th>\n",
              "    </tr>\n",
              "    <tr>\n",
              "      <th>nombre_de_chambres</th>\n",
              "      <th></th>\n",
              "      <th></th>\n",
              "      <th></th>\n",
              "      <th></th>\n",
              "    </tr>\n",
              "  </thead>\n",
              "  <tbody>\n",
              "    <tr>\n",
              "      <th>1</th>\n",
              "      <td>53.882353</td>\n",
              "      <td>22955.117647</td>\n",
              "      <td>1.823529</td>\n",
              "      <td>847546.117647</td>\n",
              "    </tr>\n",
              "    <tr>\n",
              "      <th>2</th>\n",
              "      <td>59.851852</td>\n",
              "      <td>19423.740741</td>\n",
              "      <td>1.925926</td>\n",
              "      <td>656395.000000</td>\n",
              "    </tr>\n",
              "    <tr>\n",
              "      <th>3</th>\n",
              "      <td>41.550000</td>\n",
              "      <td>20623.650000</td>\n",
              "      <td>2.050000</td>\n",
              "      <td>644955.400000</td>\n",
              "    </tr>\n",
              "    <tr>\n",
              "      <th>4</th>\n",
              "      <td>38.375000</td>\n",
              "      <td>20039.875000</td>\n",
              "      <td>2.000000</td>\n",
              "      <td>700004.437500</td>\n",
              "    </tr>\n",
              "  </tbody>\n",
              "</table>\n",
              "</div>"
            ],
            "text/plain": [
              "                           id    superficie  nombre_de_sdb    house_price\n",
              "nombre_de_chambres                                                       \n",
              "1                   53.882353  22955.117647       1.823529  847546.117647\n",
              "2                   59.851852  19423.740741       1.925926  656395.000000\n",
              "3                   41.550000  20623.650000       2.050000  644955.400000\n",
              "4                   38.375000  20039.875000       2.000000  700004.437500"
            ]
          },
          "metadata": {
            "tags": []
          },
          "execution_count": 89
        }
      ]
    },
    {
      "cell_type": "markdown",
      "metadata": {
        "id": "9Ir3pvu3K6jN",
        "colab_type": "text"
      },
      "source": [
        "10. Le coût moyen par chambre ne nous apprend pas grand chose.Tentons de faire des catégories de superficie\n",
        "\n",
        "  - Créez une nouvelle colonne dans votre dataset qu’on appellera taille_maison\n",
        "Créez trois catégories qui respectivement correspondront à :\n",
        "\n",
        "      - “très grande” == “une maison dont la taille est supérieure à 25 000 sqrt_feet”\n",
        "      \n",
        "      - “grande” == “une maison dont la taille est comprise entre 20 000 et 25 000 sqrt_feet”\n",
        "      \n",
        "      - “moyenne” == “une maison dont la taille est comprise entre 15 000 et 20 000 sqrt_feet”\n",
        "    \n",
        "      - \"petite\" == \"une maison dont la taille est comprise entre 10 000 et 15 000 sqrt_feet” \n",
        "    \n",
        "      - \"très petite\" == une maison dont la taille est inférieure à 10 000 sqrt_feet”\n",
        "      \n",
        "Remplissez les lignes correspondantes dans la colonne taille_maison"
      ]
    },
    {
      "cell_type": "code",
      "metadata": {
        "id": "OPGVFBU-I66k",
        "colab_type": "code",
        "outputId": "4bba01c5-013e-4918-cbfc-25e0325487f2",
        "colab": {}
      },
      "source": [
        ""
      ],
      "execution_count": 0,
      "outputs": [
        {
          "output_type": "execute_result",
          "data": {
            "text/plain": [
              "0     Très Grande\n",
              "1     Très Grande\n",
              "2          Petite\n",
              "3     Très Grande\n",
              "4          Petite\n",
              "5     Très Grande\n",
              "6         Moyenne\n",
              "7     Très Grande\n",
              "8         Moyenne\n",
              "9          Petite\n",
              "10    Très Grande\n",
              "11         Grande\n",
              "12    Très Grande\n",
              "13         Petite\n",
              "14    Très Grande\n",
              "15         Petite\n",
              "16         Grande\n",
              "17    Très Grande\n",
              "18        Moyenne\n",
              "19         Grande\n",
              "20         Grande\n",
              "21        Moyenne\n",
              "22         Petite\n",
              "23         Petite\n",
              "24    Très Grande\n",
              "25         Petite\n",
              "26        Moyenne\n",
              "27         Petite\n",
              "28    Très Grande\n",
              "29         Grande\n",
              "         ...     \n",
              "70    Très Grande\n",
              "71        Moyenne\n",
              "72         Petite\n",
              "73    Très Grande\n",
              "74         Grande\n",
              "75        Moyenne\n",
              "76        Moyenne\n",
              "77    Très Grande\n",
              "78        Moyenne\n",
              "79        Moyenne\n",
              "80    Très Grande\n",
              "81    Très Grande\n",
              "82         Petite\n",
              "83         Grande\n",
              "84         Grande\n",
              "85         Grande\n",
              "86         Petite\n",
              "87    Très Grande\n",
              "88         Petite\n",
              "89         Grande\n",
              "90         Grande\n",
              "91         Petite\n",
              "92         Petite\n",
              "93        Moyenne\n",
              "94         Grande\n",
              "95         Petite\n",
              "96         Petite\n",
              "97        Moyenne\n",
              "98         Grande\n",
              "99         Petite\n",
              "Name: superficie, Length: 100, dtype: object"
            ]
          },
          "metadata": {
            "tags": []
          },
          "execution_count": 98
        }
      ]
    },
    {
      "cell_type": "markdown",
      "metadata": {
        "id": "7h5LIdYlL37i",
        "colab_type": "text"
      },
      "source": [
        "11. Quel est le coût moyen d’une maison en fonction de sa catégorie de superficie ?\n"
      ]
    },
    {
      "cell_type": "code",
      "metadata": {
        "id": "EYc2GC2_I66u",
        "colab_type": "code",
        "outputId": "358def04-5b76-4f67-fcf1-9f6fd285fc7b",
        "colab": {}
      },
      "source": [
        "dataset.boxplot(column=[\"house_price\"], by=\"categorie_superficie\")"
      ],
      "execution_count": 0,
      "outputs": [
        {
          "output_type": "execute_result",
          "data": {
            "text/plain": [
              "<matplotlib.axes._subplots.AxesSubplot at 0x1a22dbeeb8>"
            ]
          },
          "metadata": {
            "tags": []
          },
          "execution_count": 104
        },
        {
          "output_type": "display_data",
          "data": {
            "image/png": "[encoded data removed]",
            "text/plain": [
              "<Figure size 432x288 with 1 Axes>"
            ]
          },
          "metadata": {
            "tags": [],
            "needs_background": "light"
          }
        }
      ]
    },
    {
      "cell_type": "markdown",
      "metadata": {
        "id": "bK8WqH1-L9n5",
        "colab_type": "text"
      },
      "source": [
        " 12. Appliquez le code ci-dessous pour visualiser votre résultat. Que pouvez vous conclure ?"
      ]
    },
    {
      "cell_type": "code",
      "metadata": {
        "id": "qwiSTG4HI661",
        "colab_type": "code",
        "colab": {}
      },
      "source": [
        "import seaborn as sns\n",
        "sns.lmplot(x = \"sqrt_meters\", y=\"house_price\", data = dataset)"
      ],
      "execution_count": 0,
      "outputs": []
    },
    {
      "cell_type": "markdown",
      "metadata": {
        "id": "MohwNIOgMFZn",
        "colab_type": "text"
      },
      "source": [
        "On peut voir sur le graphique que plus la superficie d’une maison monte, plus son prix monte. Il y a donc une corrélation linéaire assez forte entre ces deux variables. "
      ]
    }
  ]
}